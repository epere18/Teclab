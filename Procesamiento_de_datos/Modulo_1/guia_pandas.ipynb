{
 "cells": [
  {
   "attachments": {
    "image.png": {
     "image/png": "[encoded data removed]"
    }
   },
   "cell_type": "markdown",
   "metadata": {},
   "source": [
    "![image.png](attachment:image.png)"
   ]
  },
  {
   "attachments": {
    "image.png": {
     "image/png": "[encoded data removed]"
    }
   },
   "cell_type": "markdown",
   "metadata": {},
   "source": [
    "![image.png](attachment:image.png)"
   ]
  },
  {
   "cell_type": "markdown",
   "metadata": {},
   "source": [
    "# Introducción a Pandas"
   ]
  },
  {
   "cell_type": "markdown",
   "metadata": {},
   "source": [
    "¿Qué es Pandas?\n",
    "\n",
    "El análisis de datos es el proceso de evaluar datos mediante la utilización deherramientas analíticas y estadísticas para descubrir información útil y ayudar en la tomade decisiones de negocios. Pandas es un módulo (de código abierto) que proporcionaestructuras de datos de alto rendimiento y herramientas de análisis de datos para ellenguaje de programación Python."
   ]
  },
  {
   "cell_type": "markdown",
   "metadata": {},
   "source": [
    "Objetos de Pandas\n",
    "\n",
    "Los objetos de Pandas se pueden considerar como versiones mejoradas de las matricesde NumPy en las que las filas y las columnas se identifican con etiquetas. en lugar desimples índices enteros. Pandas proporciona una gran cantidad de herramientas,métodos y funcionalidades útiles. Además, brinda las estructuras de datos básicas, paralo cual es necesario entender las\n",
    "tres estructuras de datos fundamentales dePandas: series, dataframes e índices."
   ]
  },
  {
   "cell_type": "markdown",
   "metadata": {},
   "source": [
    "# Serie con pandas"
   ]
  },
  {
   "cell_type": "markdown",
   "metadata": {},
   "source": [
    "Un vector etiquetado capaz de contener cualquier tipo de dato (enteros, reales, cadenas de texto, fechas, objetos de Python) con etiquetas que se denominan índices."
   ]
  },
  {
   "cell_type": "code",
   "execution_count": 11,
   "metadata": {},
   "outputs": [],
   "source": [
    "#Se importa la librería Pandas\n",
    "import pandas as pd\n",
    "\n",
    "#Se importa la librería Numpy\n",
    "import numpy as np"
   ]
  },
  {
   "cell_type": "markdown",
   "metadata": {},
   "source": [
    "### Crear una serie a partir de una lista"
   ]
  },
  {
   "cell_type": "code",
   "execution_count": 12,
   "metadata": {},
   "outputs": [
    {
     "name": "stdout",
     "output_type": "stream",
     "text": [
      "[10, 20, 30, 40, 50]\n",
      "Serie a partir de una lista:\n",
      "0    10\n",
      "1    20\n",
      "2    30\n",
      "3    40\n",
      "4    50\n",
      "dtype: int64\n"
     ]
    }
   ],
   "source": [
    "lista = [10, 20, 30, 40, 50]\n",
    "serie_lista = pd.Series(lista)\n",
    "print(lista)\n",
    "print(\"Serie a partir de una lista:\")\n",
    "print(serie_lista)"
   ]
  },
  {
   "cell_type": "markdown",
   "metadata": {},
   "source": [
    "### Crear una serie a partir de un arreglo de NumPy"
   ]
  },
  {
   "cell_type": "code",
   "execution_count": 13,
   "metadata": {},
   "outputs": [
    {
     "name": "stdout",
     "output_type": "stream",
     "text": [
      "[1 2 3 4 5]\n",
      "\n",
      "Serie a partir de un arreglo de NumPy:\n",
      "0    1\n",
      "1    2\n",
      "2    3\n",
      "3    4\n",
      "4    5\n",
      "dtype: int32\n"
     ]
    }
   ],
   "source": [
    "arreglo = np.array([1, 2, 3, 4, 5])\n",
    "serie_arreglo = pd.Series(arreglo)\n",
    "print(arreglo)\n",
    "print(\"\\nSerie a partir de un arreglo de NumPy:\")\n",
    "print(serie_arreglo)"
   ]
  },
  {
   "cell_type": "markdown",
   "metadata": {},
   "source": [
    "### Crear una serie a partir de un diccionario"
   ]
  },
  {
   "cell_type": "code",
   "execution_count": 14,
   "metadata": {},
   "outputs": [
    {
     "name": "stdout",
     "output_type": "stream",
     "text": [
      "{'a': 100, 'b': 200, 'c': 300, 'd': 400, 'e': 500}\n",
      "\n",
      "Serie a partir de un diccionario:\n",
      "a    100\n",
      "b    200\n",
      "c    300\n",
      "d    400\n",
      "e    500\n",
      "dtype: int64\n"
     ]
    }
   ],
   "source": [
    "diccionario = {'a': 100, 'b': 200, 'c': 300, 'd': 400, 'e': 500}\n",
    "serie_diccionario = pd.Series(diccionario)\n",
    "print(diccionario)\n",
    "print(\"\\nSerie a partir de un diccionario:\")\n",
    "print(serie_diccionario)"
   ]
  },
  {
   "cell_type": "markdown",
   "metadata": {},
   "source": [
    "### Indexación de los elementos "
   ]
  },
  {
   "cell_type": "code",
   "execution_count": 15,
   "metadata": {},
   "outputs": [
    {
     "name": "stdout",
     "output_type": "stream",
     "text": [
      "[1 2 3 4 5]\n"
     ]
    }
   ],
   "source": [
    "print(serie_arreglo.values)"
   ]
  },
  {
   "cell_type": "code",
   "execution_count": 16,
   "metadata": {},
   "outputs": [
    {
     "name": "stdout",
     "output_type": "stream",
     "text": [
      "1\n"
     ]
    }
   ],
   "source": [
    "print(serie_arreglo[0])"
   ]
  },
  {
   "cell_type": "code",
   "execution_count": 17,
   "metadata": {},
   "outputs": [
    {
     "name": "stdout",
     "output_type": "stream",
     "text": [
      "1    2\n",
      "2    3\n",
      "dtype: int32\n"
     ]
    }
   ],
   "source": [
    "print(serie_arreglo[1:3])"
   ]
  },
  {
   "cell_type": "markdown",
   "metadata": {},
   "source": [
    "### Especificación de índice"
   ]
  },
  {
   "cell_type": "code",
   "execution_count": 18,
   "metadata": {},
   "outputs": [
    {
     "data": {
      "text/plain": [
       "Ene    7\n",
       "Feb    5\n",
       "Mar    3\n",
       "dtype: int64"
      ]
     },
     "execution_count": 18,
     "metadata": {},
     "output_type": "execute_result"
    }
   ],
   "source": [
    "s=pd.Series([7,5,3],index=['Ene','Feb','Mar']) \n",
    "s"
   ]
  },
  {
   "cell_type": "markdown",
   "metadata": {},
   "source": [
    "Utilización de la llamada «range()»"
   ]
  },
  {
   "cell_type": "code",
   "execution_count": 21,
   "metadata": {},
   "outputs": [
    {
     "name": "stdout",
     "output_type": "stream",
     "text": [
      "b\n"
     ]
    }
   ],
   "source": [
    "idx = range(5)\n",
    "vals = ['a','b','c','d','e']\n",
    "s = pd.Series(data=vals, index=idx)\n",
    "print(s[1])"
   ]
  },
  {
   "cell_type": "markdown",
   "metadata": {},
   "source": [
    "### Método «Series.apply»\n",
    "\n",
    "El método «pandas.Series.apply» permite aplicar a cada uno de los elementos de la serie una función. "
   ]
  },
  {
   "cell_type": "code",
   "execution_count": 26,
   "metadata": {},
   "outputs": [
    {
     "data": {
      "text/plain": [
       "Londres     20\n",
       "New York    21\n",
       "Helsinki    12\n",
       "dtype: int64"
      ]
     },
     "execution_count": 26,
     "metadata": {},
     "output_type": "execute_result"
    }
   ],
   "source": [
    "s=pd.Series([20, 21, 12],index=[ 'Londres', 'New York', 'Helsinki']) \n",
    "s "
   ]
  },
  {
   "cell_type": "code",
   "execution_count": 28,
   "metadata": {},
   "outputs": [
    {
     "data": {
      "text/plain": [
       "Londres     400\n",
       "New York    441\n",
       "Helsinki    144\n",
       "dtype: int64"
      ]
     },
     "execution_count": 28,
     "metadata": {},
     "output_type": "execute_result"
    }
   ],
   "source": [
    "def cubo(x):  \n",
    "    return x ** 2       # recordar aquí mantener la indentación. \n",
    "s.apply(cubo) \n"
   ]
  },
  {
   "cell_type": "markdown",
   "metadata": {},
   "source": [
    "# Dataframe de Pandas"
   ]
  },
  {
   "cell_type": "markdown",
   "metadata": {},
   "source": [
    "La siguiente estructura fundamental en Pandas es el dataframe: es una matriz (arreglobidimensional) etiquetada con columnas de tipos potencialmente diferentes.\n",
    "\n",
    "DataFrame (“hoja de datos o marco de datos”) son paneles bidimensionales compuestos por filas y columnas que permiten destacar las relaciones entre las distintas variables de la serie de datos.\n"
   ]
  },
  {
   "cell_type": "markdown",
   "metadata": {},
   "source": [
    "### Crear un DataFrame a partir de listas"
   ]
  },
  {
   "cell_type": "code",
   "execution_count": 30,
   "metadata": {},
   "outputs": [
    {
     "name": "stdout",
     "output_type": "stream",
     "text": [
      "Crear un DataFrame a partir de listas\n",
      "--------------------------------------------------------------------\n",
      "{'Nombre': ['Juan', 'María', 'Pedro', 'Ana'], 'Edad': [25, 30, 35, 40], 'Ciudad': ['México', 'Madrid', 'Buenos Aires', 'Lima']}\n",
      "DataFrame a partir de listas:\n",
      "  Nombre  Edad        Ciudad\n",
      "0   Juan    25        México\n",
      "1  María    30        Madrid\n",
      "2  Pedro    35  Buenos Aires\n",
      "3    Ana    40          Lima\n",
      "--------------------------------------------------------------------\n"
     ]
    }
   ],
   "source": [
    "print(\"Crear un DataFrame a partir de listas\")\n",
    "print(\"--------------------------------------------------------------------\")\n",
    "data = {'Nombre': ['Juan', 'María', 'Pedro', 'Ana'],\n",
    "        'Edad': [25, 30, 35, 40],\n",
    "        'Ciudad': ['México', 'Madrid', 'Buenos Aires', 'Lima']}\n",
    "df = pd.DataFrame(data)\n",
    "print(data)\n",
    "print(\"DataFrame a partir de listas:\")\n",
    "print(df)\n",
    "print(\"--------------------------------------------------------------------\")"
   ]
  },
  {
   "cell_type": "markdown",
   "metadata": {},
   "source": [
    "### Crear un DataFrame a partir de arreglos de NumPy"
   ]
  },
  {
   "cell_type": "code",
   "execution_count": 31,
   "metadata": {},
   "outputs": [
    {
     "name": "stdout",
     "output_type": "stream",
     "text": [
      "Crear un DataFrame a partir de arreglos de NumPy\n",
      "--------------------------------------------------------------------\n",
      "[[1 2 3]\n",
      " [4 5 6]\n",
      " [7 8 9]]\n",
      "\n",
      "DataFrame a partir de arreglos de NumPy:\n",
      "   A  B  C\n",
      "0  1  2  3\n",
      "1  4  5  6\n",
      "2  7  8  9\n",
      "--------------------------------------------------------------------\n"
     ]
    }
   ],
   "source": [
    "print(\"Crear un DataFrame a partir de arreglos de NumPy\")\n",
    "print(\"--------------------------------------------------------------------\")\n",
    "import numpy as np\n",
    "datos = np.array([[1, 2, 3], [4, 5, 6], [7, 8, 9]])\n",
    "print(datos)\n",
    "df2 = pd.DataFrame(datos, columns=['A', 'B', 'C'])\n",
    "print(\"\\nDataFrame a partir de arreglos de NumPy:\")\n",
    "print(df2)\n",
    "print(\"--------------------------------------------------------------------\")"
   ]
  },
  {
   "cell_type": "markdown",
   "metadata": {},
   "source": [
    "### Crear un DataFrame a partir de un diccionario"
   ]
  },
  {
   "cell_type": "code",
   "execution_count": 32,
   "metadata": {},
   "outputs": [
    {
     "name": "stdout",
     "output_type": "stream",
     "text": [
      "Crear un DataFrame a partir de un diccionario\n",
      "--------------------------------------------------------------------\n",
      "{'Nombre': ['Juan', 'María', 'Pedro', 'Ana'], 'Edad': [25, 30, 35, 40], 'Ciudad': ['México', 'Madrid', 'Buenos Aires', 'Lima']}\n",
      "\n",
      "DataFrame a partir de un diccionario:\n",
      "  Nombre  Edad        Ciudad\n",
      "0   Juan    25        México\n",
      "1  María    30        Madrid\n",
      "2  Pedro    35  Buenos Aires\n",
      "3    Ana    40          Lima\n"
     ]
    }
   ],
   "source": [
    "print(\"Crear un DataFrame a partir de un diccionario\")\n",
    "print(\"--------------------------------------------------------------------\")\n",
    "datos_diccionario = {'Nombre': ['Juan', 'María', 'Pedro', 'Ana'],\n",
    "                     'Edad': [25, 30, 35, 40],\n",
    "                     'Ciudad': ['México', 'Madrid', 'Buenos Aires', 'Lima']}\n",
    "print(datos_diccionario)\n",
    "df3 = pd.DataFrame.from_dict(datos_diccionario)\n",
    "print(\"\\nDataFrame a partir de un diccionario:\")\n",
    "print(df3)"
   ]
  },
  {
   "cell_type": "code",
   "execution_count": 39,
   "metadata": {},
   "outputs": [
    {
     "name": "stdout",
     "output_type": "stream",
     "text": [
      "RangeIndex(start=0, stop=4, step=1)\n",
      "Index(['Nombre', 'Edad', 'Ciudad'], dtype='object')\n"
     ]
    }
   ],
   "source": [
    "print(df.index)\n",
    "print(df.columns)"
   ]
  },
  {
   "cell_type": "markdown",
   "metadata": {},
   "source": [
    "### Añadir datos con el atributo «loc» en un DataFrame.\n",
    "\n",
    "El atributo «loc» permite acceder a una fila concreta (o varias) a través de su nombre.\n"
   ]
  },
  {
   "cell_type": "code",
   "execution_count": 34,
   "metadata": {},
   "outputs": [
    {
     "name": "stdout",
     "output_type": "stream",
     "text": [
      "              Mañana    Tarde    Noche\n",
      "Lunes        Tensión  Alergia  Sedante\n",
      "Martes       Tensión     None  Alergia\n",
      "Miércoles  Protector  Alergia  Tensión\n"
     ]
    }
   ],
   "source": [
    "df = pd.DataFrame() \n",
    "# creamos las columnas \n",
    "\n",
    "df['Mañana'] = None \n",
    "df['Tarde'] = None \n",
    "df['Noche'] = None \n",
    "\n",
    "# añadimos filas por su nombre de fila \n",
    "\n",
    "df.loc['Lunes'] = ['Tensión', 'Alergia', 'Sedante'] \n",
    "df.loc['Martes'] = ['Tensión', None, 'Alergia'] \n",
    "df.loc['Miércoles'] = ['Protector', 'Alergia', 'Tensión'] \n",
    "\n",
    "print(df)"
   ]
  },
  {
   "cell_type": "markdown",
   "metadata": {},
   "source": [
    "### Transponer filas por columnas"
   ]
  },
  {
   "cell_type": "code",
   "execution_count": 35,
   "metadata": {},
   "outputs": [
    {
     "name": "stdout",
     "output_type": "stream",
     "text": [
      "    0   1   2   3\n",
      "0  10  11  12  13\n",
      "1  20  21  22  23\n",
      "2  30  31  32  33\n"
     ]
    }
   ],
   "source": [
    "datos = [[10, 11, 12, 13], [20, 21, 22, 23], [30, 31, 32, 33]] \n",
    "df = pd.DataFrame(datos) \n",
    "print(df) "
   ]
  },
  {
   "cell_type": "code",
   "execution_count": 36,
   "metadata": {},
   "outputs": [
    {
     "name": "stdout",
     "output_type": "stream",
     "text": [
      "    0   1   2\n",
      "0  10  20  30\n",
      "1  11  21  31\n",
      "2  12  22  32\n",
      "3  13  23  33\n"
     ]
    }
   ],
   "source": [
    "df = pd.DataFrame(datos).transpose()\n",
    "print(df) "
   ]
  },
  {
   "cell_type": "markdown",
   "metadata": {},
   "source": [
    "# Manejo de archivos CSV "
   ]
  },
  {
   "cell_type": "markdown",
   "metadata": {},
   "source": [
    "Se utiliza:\n",
    "    \n",
    "«pd.read_csv()» para cargar los contenidos del archivo CSV en un DataFrame. \n",
    "\n",
    "«DataFrame.to_csv()» para volcar el contenido de un DataFrame a un archivo CSV.\n"
   ]
  },
  {
   "cell_type": "markdown",
   "metadata": {},
   "source": [
    "## Lectura de archivos CSV"
   ]
  },
  {
   "cell_type": "code",
   "execution_count": 37,
   "metadata": {},
   "outputs": [],
   "source": [
    "#data = {'first_name': ['Sigrid', 'Joe', 'Theodoric','Kennedy', 'Beatrix', 'Olimpia', 'Grange', 'Sallee'],'last_name': ['Mannock', 'Hinners', 'Rivers', 'Donnell', 'Parlett', 'Guenther', 'Douce', 'Johnstone'],'age': [27, 31, 36, 53, 48, 36, 40, 34],'amount_1': [7.17, 1.90, 1.11, 1.41, 6.69, 4.62, 1.01, 4.88],'amount_2': [8.06,  \"?\", 5.90,  \"?\",  \"?\", 7.48, 4.37,  \"?\"]}\n",
    "#df = pd.DataFrame(data, columns = ['first_name', 'last_name', 'age', 'amount_1', 'amount_2'])\n",
    "#df.to_csv('example.csv')"
   ]
  },
  {
   "cell_type": "code",
   "execution_count": 38,
   "metadata": {},
   "outputs": [
    {
     "data": {
      "text/html": [
       "<div>\n",
       "<style scoped>\n",
       "    .dataframe tbody tr th:only-of-type {\n",
       "        vertical-align: middle;\n",
       "    }\n",
       "\n",
       "    .dataframe tbody tr th {\n",
       "        vertical-align: top;\n",
       "    }\n",
       "\n",
       "    .dataframe thead th {\n",
       "        text-align: right;\n",
       "    }\n",
       "</style>\n",
       "<table border=\"1\" class=\"dataframe\">\n",
       "  <thead>\n",
       "    <tr style=\"text-align: right;\">\n",
       "      <th></th>\n",
       "      <th>Unnamed: 0</th>\n",
       "      <th>first_name</th>\n",
       "      <th>last_name</th>\n",
       "      <th>age</th>\n",
       "      <th>amount_1</th>\n",
       "      <th>amount_2</th>\n",
       "    </tr>\n",
       "  </thead>\n",
       "  <tbody>\n",
       "    <tr>\n",
       "      <th>0</th>\n",
       "      <td>0</td>\n",
       "      <td>Sigrid</td>\n",
       "      <td>Mannock</td>\n",
       "      <td>27</td>\n",
       "      <td>7.17</td>\n",
       "      <td>8.06</td>\n",
       "    </tr>\n",
       "    <tr>\n",
       "      <th>1</th>\n",
       "      <td>1</td>\n",
       "      <td>Joe</td>\n",
       "      <td>Hinners</td>\n",
       "      <td>31</td>\n",
       "      <td>1.90</td>\n",
       "      <td>?</td>\n",
       "    </tr>\n",
       "    <tr>\n",
       "      <th>2</th>\n",
       "      <td>2</td>\n",
       "      <td>Theodoric</td>\n",
       "      <td>Rivers</td>\n",
       "      <td>36</td>\n",
       "      <td>1.11</td>\n",
       "      <td>5.9</td>\n",
       "    </tr>\n",
       "    <tr>\n",
       "      <th>3</th>\n",
       "      <td>3</td>\n",
       "      <td>Kennedy</td>\n",
       "      <td>Donnell</td>\n",
       "      <td>53</td>\n",
       "      <td>1.41</td>\n",
       "      <td>?</td>\n",
       "    </tr>\n",
       "    <tr>\n",
       "      <th>4</th>\n",
       "      <td>4</td>\n",
       "      <td>Beatrix</td>\n",
       "      <td>Parlett</td>\n",
       "      <td>48</td>\n",
       "      <td>6.69</td>\n",
       "      <td>?</td>\n",
       "    </tr>\n",
       "    <tr>\n",
       "      <th>5</th>\n",
       "      <td>5</td>\n",
       "      <td>Olimpia</td>\n",
       "      <td>Guenther</td>\n",
       "      <td>36</td>\n",
       "      <td>4.62</td>\n",
       "      <td>7.48</td>\n",
       "    </tr>\n",
       "    <tr>\n",
       "      <th>6</th>\n",
       "      <td>6</td>\n",
       "      <td>Grange</td>\n",
       "      <td>Douce</td>\n",
       "      <td>40</td>\n",
       "      <td>1.01</td>\n",
       "      <td>4.37</td>\n",
       "    </tr>\n",
       "    <tr>\n",
       "      <th>7</th>\n",
       "      <td>7</td>\n",
       "      <td>Sallee</td>\n",
       "      <td>Johnstone</td>\n",
       "      <td>34</td>\n",
       "      <td>4.88</td>\n",
       "      <td>?</td>\n",
       "    </tr>\n",
       "  </tbody>\n",
       "</table>\n",
       "</div>"
      ],
      "text/plain": [
       "   Unnamed: 0 first_name  last_name  age  amount_1 amount_2\n",
       "0           0     Sigrid    Mannock   27      7.17     8.06\n",
       "1           1        Joe    Hinners   31      1.90        ?\n",
       "2           2  Theodoric     Rivers   36      1.11      5.9\n",
       "3           3    Kennedy    Donnell   53      1.41        ?\n",
       "4           4    Beatrix    Parlett   48      6.69        ?\n",
       "5           5    Olimpia   Guenther   36      4.62     7.48\n",
       "6           6     Grange      Douce   40      1.01     4.37\n",
       "7           7     Sallee  Johnstone   34      4.88        ?"
      ]
     },
     "execution_count": 38,
     "metadata": {},
     "output_type": "execute_result"
    }
   ],
   "source": [
    "df = pd.read_csv('example.csv')\n",
    "df"
   ]
  },
  {
   "cell_type": "markdown",
   "metadata": {},
   "source": [
    "## Guardado de archivos CSV\n"
   ]
  },
  {
   "cell_type": "markdown",
   "metadata": {},
   "source": [
    "En caso de que se desee cambiar el delimitador se puede indicar con la propiedad sep. Para que este sea punto y coma simplemente se ha de escribir:\n"
   ]
  },
  {
   "cell_type": "code",
   "execution_count": 39,
   "metadata": {},
   "outputs": [],
   "source": [
    "df.to_csv('example_semicolon.csv', sep=';')"
   ]
  },
  {
   "cell_type": "code",
   "execution_count": null,
   "metadata": {},
   "outputs": [],
   "source": []
  }
 ],
 "metadata": {
  "kernelspec": {
   "display_name": "Python 3 (ipykernel)",
   "language": "python",
   "name": "python3"
  },
  "language_info": {
   "codemirror_mode": {
    "name": "ipython",
    "version": 3
   },
   "file_extension": ".py",
   "mimetype": "text/x-python",
   "name": "python",
   "nbconvert_exporter": "python",
   "pygments_lexer": "ipython3",
   "version": "3.11.7"
  }
 },
 "nbformat": 4,
 "nbformat_minor": 4
}
