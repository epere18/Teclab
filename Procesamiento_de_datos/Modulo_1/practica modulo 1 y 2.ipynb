{
 "cells": [
  {
   "cell_type": "markdown",
   "id": "888201ab-31fb-43f6-95c3-519e7b6e5e7c",
   "metadata": {},
   "source": [
    "# 🧪 Contexto Ficticio: Análisis de Ventas de una Tienda Online\n",
    "Tu tienda online registró datos de ventas, productos y clientes. Necesitás responder preguntas típicas del análisis de datos.\n"
   ]
  },
  {
   "cell_type": "markdown",
   "id": "fcaf2c53-b5a4-490f-a6c4-53bc223ae5cf",
   "metadata": {},
   "source": [
    "# 🧩 Ejercicio 1 – Listas y Diccionarios\n",
    "Tenés una lista de productos vendidos con sus precios:\n",
    "\n"
   ]
  },
  {
   "cell_type": "code",
   "execution_count": 3,
   "id": "96e0e37d-1b80-4405-9efa-a6afb0496c24",
   "metadata": {},
   "outputs": [],
   "source": [
    "ventas = [\n",
    "    {\"producto\": \"Mouse\", \"precio\": 2500},\n",
    "    {\"producto\": \"Teclado\", \"precio\": 4500},\n",
    "    {\"producto\": \"Monitor\", \"precio\": 22000},\n",
    "    {\"producto\": \"Auriculares\", \"precio\": 6800},\n",
    "    {\"producto\": \"Teclado\", \"precio\": 4500},\n",
    "    {\"producto\": \"Monitor\", \"precio\": 4500}\n",
    "]"
   ]
  },
  {
   "cell_type": "markdown",
   "id": "33f5c92c-e6ee-446c-a9fe-4664cc9a4b75",
   "metadata": {},
   "source": [
    "## Preguntas:\n",
    "### 1.\t¿Cuál fue el monto total vendido?\n",
    "### 2.\t¿Cuántas veces se vendió cada producto?\n",
    "### 3.\t¿Cuál fue el producto más vendido?\n",
    "### 4.\t¿Cuál fue el producto más caro vendido?\n"
   ]
  },
  {
   "cell_type": "code",
   "execution_count": 4,
   "id": "e43afe09-ac84-4224-8952-078ec7982dd2",
   "metadata": {},
   "outputs": [
    {
     "name": "stdout",
     "output_type": "stream",
     "text": [
      "Total vendido: 44800\n",
      "Ventas por producto: {'Mouse': 1, 'Teclado': 2, 'Monitor': 2, 'Auriculares': 1}\n",
      "Producto más vendido: Teclado\n",
      "Producto más caro: Monitor - Precio: 22000\n"
     ]
    }
   ],
   "source": [
    "\n",
    "# 1. Monto total vendido\n",
    "total = sum(venta[\"precio\"] for venta in ventas)\n",
    "print(\"Total vendido:\", total)\n",
    "\n",
    "# 2. Veces que se vendió cada producto\n",
    "contador = {}\n",
    "for venta in ventas:\n",
    "    prod = venta[\"producto\"]\n",
    "    contador[prod] = contador.get(prod, 0) + 1\n",
    "print(\"Ventas por producto:\", contador)\n",
    "\n",
    "# 3. Producto más vendido\n",
    "mas_vendido = max(contador, key=contador.get)\n",
    "print(\"Producto más vendido:\", mas_vendido)\n",
    "\n",
    "# 4. Producto más caro vendido\n",
    "mas_caro = max(ventas, key=lambda x: x[\"precio\"])\n",
    "print(\"Producto más caro:\", mas_caro[\"producto\"], \"- Precio:\", mas_caro[\"precio\"])\n"
   ]
  },
  {
   "cell_type": "markdown",
   "id": "554204a6",
   "metadata": {},
   "source": [
    "### Código modificado para que muestre más de un producto en \"Producto más vendido\""
   ]
  },
  {
   "cell_type": "code",
   "execution_count": 5,
   "id": "1d350a08",
   "metadata": {},
   "outputs": [
    {
     "name": "stdout",
     "output_type": "stream",
     "text": [
      "Total vendido: 44800\n",
      "Ventas por producto: {'Mouse': 1, 'Teclado': 2, 'Monitor': 2, 'Auriculares': 1}\n",
      "Producto(s) más vendido(s): Teclado, Monitor\n",
      "Producto más caro: Monitor - Precio: 22000\n"
     ]
    }
   ],
   "source": [
    "# 1. Monto total vendido\n",
    "total = sum(venta[\"precio\"] for venta in ventas)\n",
    "print(\"Total vendido:\", total)\n",
    "\n",
    "# 2. Veces que se vendió cada producto\n",
    "contador = {}\n",
    "for venta in ventas:\n",
    "    prod = venta[\"producto\"]\n",
    "    contador[prod] = contador.get(prod, 0) + 1\n",
    "print(\"Ventas por producto:\", contador)\n",
    "\n",
    "# 3. Producto(s) más vendido(s)\n",
    "max_ventas = max(contador.values())\n",
    "mas_vendidos = [producto for producto, cantidad in contador.items() if cantidad == max_ventas]\n",
    "print(\"Producto(s) más vendido(s):\", \", \".join(mas_vendidos))\n",
    "\n",
    "# 4. Producto más caro vendido\n",
    "mas_caro = max(ventas, key=lambda x: x[\"precio\"])\n",
    "print(\"Producto más caro:\", mas_caro[\"producto\"], \"- Precio:\", mas_caro[\"precio\"])\n"
   ]
  },
  {
   "cell_type": "markdown",
   "id": "6a063614-d594-4d46-8d51-88c6d33b067c",
   "metadata": {},
   "source": [
    "# 🧩 Ejercicio 2 – Arrays de Numpy\n"
   ]
  },
  {
   "cell_type": "code",
   "execution_count": 5,
   "id": "49e87f3e-3e92-400b-8150-cbe4079b4d74",
   "metadata": {},
   "outputs": [],
   "source": [
    "import numpy as np\n",
    "precios = np.array([2500, 4500, 22000, 6800, 4500])\n",
    "cantidades = np.array([1, 2, 1, 1, 1])"
   ]
  },
  {
   "cell_type": "markdown",
   "id": "a328462b-17bb-4d80-a7e2-6759a1744210",
   "metadata": {},
   "source": [
    "### Preguntas:\n",
    "### 1.\tCalculá el total vendido por cada línea de producto (precio * cantidad).\n",
    "### 2.\t¿Cuál fue el ingreso total?\n",
    "### 3.\t¿Cuál fue el producto con mayor ingreso?"
   ]
  },
  {
   "cell_type": "code",
   "execution_count": 6,
   "id": "bf34af80-1e8e-49c8-8339-ec4e53505d09",
   "metadata": {},
   "outputs": [
    {
     "name": "stdout",
     "output_type": "stream",
     "text": [
      "Total por línea: [ 2500  9000 22000  6800  4500]\n",
      "Ingreso total: 44800\n",
      "Mayor ingreso línea: 22000\n"
     ]
    }
   ],
   "source": [
    "# 1. Total por línea\n",
    "total_linea = precios * cantidades\n",
    "print(\"Total por línea:\", total_linea)\n",
    "\n",
    "# 2. Ingreso total\n",
    "ingreso_total = total_linea.sum()\n",
    "print(\"Ingreso total:\", ingreso_total)\n",
    "\n",
    "# 3. Producto con mayor ingreso\n",
    "indice_mayor = np.argmax(total_linea)\n",
    "print(\"Mayor ingreso línea:\", total_linea[indice_mayor])\n"
   ]
  },
  {
   "cell_type": "markdown",
   "id": "b34c720f-e5a1-4948-a6a4-da46537ccd2c",
   "metadata": {},
   "source": [
    "## 🧩 Ejercicio 3 – Series de pandas"
   ]
  },
  {
   "cell_type": "code",
   "execution_count": 7,
   "id": "4aa09894-355f-48d8-a8d8-94047fdc727c",
   "metadata": {},
   "outputs": [],
   "source": [
    "import pandas as pd\n",
    "productos = [\"Mouse\", \"Teclado\", \"Monitor\", \"Auriculares\", \"Teclado\"]\n",
    "precios = [2500, 4500, 22000, 6800, 4500]\n",
    "serie_precios = pd.Series(precios, index=productos)"
   ]
  },
  {
   "cell_type": "markdown",
   "id": "b517dc2d-4ab6-4435-8cb5-9ca075fdd278",
   "metadata": {},
   "source": [
    "### Preguntas:\n",
    "### 1.\tMostrá la serie ordenada por precio.\n",
    "### 2.\t¿Cuánto costaron en total todos los teclados?\n",
    "### 3.\tMostrá los productos cuyo precio supera los $5000."
   ]
  },
  {
   "cell_type": "code",
   "execution_count": 8,
   "id": "6e7689dc-e09e-4cf0-9ba2-d461029e471a",
   "metadata": {},
   "outputs": [
    {
     "name": "stdout",
     "output_type": "stream",
     "text": [
      "Serie ordenada:\n",
      " Mouse           2500\n",
      "Teclado         4500\n",
      "Teclado         4500\n",
      "Auriculares     6800\n",
      "Monitor        22000\n",
      "dtype: int64\n",
      "Total teclados: 9000\n",
      "Productos > 5000:\n",
      " Monitor        22000\n",
      "Auriculares     6800\n",
      "dtype: int64\n"
     ]
    }
   ],
   "source": [
    "# 1. Ordenar por precio\n",
    "ordenado = serie_precios.sort_values()\n",
    "print(\"Serie ordenada:\\n\", ordenado)\n",
    "\n",
    "# 2. Total de teclados\n",
    "total_teclados = serie_precios[\"Teclado\"].sum()\n",
    "print(\"Total teclados:\", total_teclados)\n",
    "\n",
    "# 3. Productos con precio > 5000\n",
    "mayores_5000 = serie_precios[serie_precios > 5000]\n",
    "print(\"Productos > 5000:\\n\", mayores_5000)\n"
   ]
  },
  {
   "cell_type": "markdown",
   "id": "6fcd6afe-284d-4810-8b19-b81ddae8311c",
   "metadata": {},
   "source": [
    "# 🧩 Ejercicio 4 – DataFrame: Análisis de Ventas"
   ]
  },
  {
   "cell_type": "code",
   "execution_count": 24,
   "id": "4aec5eae-be62-4d45-b598-593ab86928e2",
   "metadata": {},
   "outputs": [
    {
     "name": "stdout",
     "output_type": "stream",
     "text": [
      "5\n"
     ]
    },
    {
     "data": {
      "text/html": [
       "<div>\n",
       "<style scoped>\n",
       "    .dataframe tbody tr th:only-of-type {\n",
       "        vertical-align: middle;\n",
       "    }\n",
       "\n",
       "    .dataframe tbody tr th {\n",
       "        vertical-align: top;\n",
       "    }\n",
       "\n",
       "    .dataframe thead th {\n",
       "        text-align: right;\n",
       "    }\n",
       "</style>\n",
       "<table border=\"1\" class=\"dataframe\">\n",
       "  <thead>\n",
       "    <tr style=\"text-align: right;\">\n",
       "      <th></th>\n",
       "      <th>producto</th>\n",
       "      <th>precio</th>\n",
       "      <th>cantidad</th>\n",
       "      <th>cliente</th>\n",
       "    </tr>\n",
       "  </thead>\n",
       "  <tbody>\n",
       "    <tr>\n",
       "      <th>0</th>\n",
       "      <td>Mouse</td>\n",
       "      <td>2500</td>\n",
       "      <td>1</td>\n",
       "      <td>Ana</td>\n",
       "    </tr>\n",
       "    <tr>\n",
       "      <th>1</th>\n",
       "      <td>Teclado</td>\n",
       "      <td>4500</td>\n",
       "      <td>2</td>\n",
       "      <td>Luis</td>\n",
       "    </tr>\n",
       "    <tr>\n",
       "      <th>2</th>\n",
       "      <td>Monitor</td>\n",
       "      <td>22000</td>\n",
       "      <td>1</td>\n",
       "      <td>Ana</td>\n",
       "    </tr>\n",
       "    <tr>\n",
       "      <th>3</th>\n",
       "      <td>Auriculares</td>\n",
       "      <td>6800</td>\n",
       "      <td>1</td>\n",
       "      <td>Pedro</td>\n",
       "    </tr>\n",
       "    <tr>\n",
       "      <th>4</th>\n",
       "      <td>Teclado</td>\n",
       "      <td>4500</td>\n",
       "      <td>1</td>\n",
       "      <td>Luis</td>\n",
       "    </tr>\n",
       "  </tbody>\n",
       "</table>\n",
       "</div>"
      ],
      "text/plain": [
       "      producto  precio  cantidad cliente\n",
       "0        Mouse    2500         1     Ana\n",
       "1      Teclado    4500         2    Luis\n",
       "2      Monitor   22000         1     Ana\n",
       "3  Auriculares    6800         1   Pedro\n",
       "4      Teclado    4500         1    Luis"
      ]
     },
     "execution_count": 24,
     "metadata": {},
     "output_type": "execute_result"
    }
   ],
   "source": [
    "data = {\n",
    "    \"producto\": [\"Mouse\", \"Teclado\", \"Monitor\", \"Auriculares\", \"Teclado\"],\n",
    "    \"precio\": [2500, 4500, 22000, 6800, 4500],\n",
    "    \"cantidad\": [1, 2, 1, 1, 1],\n",
    "    \"cliente\": [\"Ana\", \"Luis\", \"Ana\", \"Pedro\", \"Luis\"]\n",
    "}\n",
    "df = pd.DataFrame(data)\n",
    "print(len(df))\n",
    "df"
   ]
  },
  {
   "cell_type": "markdown",
   "id": "de4a249b-f539-44e1-bf42-bac946fc9d8d",
   "metadata": {},
   "source": [
    "### Preguntas:\n",
    "### 1.\t¿Cuál es el ingreso total?\n",
    "### 2.\tMostrá el total de ventas por producto.\n",
    "### 3.\tMostrá el total de ventas por cliente.\n",
    "### 4.\t¿Cuál fue el producto más vendido en cantidad?\n",
    "### 5.\t¿Qué cliente gastó más?"
   ]
  },
  {
   "cell_type": "code",
   "execution_count": 26,
   "id": "57238ff6-2e4d-4acc-a85b-5d056a10286a",
   "metadata": {},
   "outputs": [
    {
     "name": "stdout",
     "output_type": "stream",
     "text": [
      "Ingreso total: 44800\n",
      "Total por producto:\n",
      " producto\n",
      "Auriculares     6800\n",
      "Monitor        22000\n",
      "Mouse           2500\n",
      "Teclado        13500\n",
      "Name: total, dtype: object\n",
      "Total por cliente:\n",
      " cliente\n",
      "Ana      24500\n",
      "Lucas        0\n",
      "Luis     13500\n",
      "Pedro     6800\n",
      "Name: total, dtype: object\n",
      "Producto más vendido: Teclado\n",
      "Cliente que más gastó: Ana\n"
     ]
    }
   ],
   "source": [
    "# 1. Ingreso total\n",
    "df[\"total\"] = df[\"precio\"] * df[\"cantidad\"]\n",
    "print(\"Ingreso total:\", df[\"total\"].sum())\n",
    "\n",
    "# 2. Total ventas por producto\n",
    "ventas_producto = df.groupby(\"producto\")[\"total\"].sum()\n",
    "print(\"Total por producto:\\n\", ventas_producto)\n",
    "\n",
    "# 3. Total ventas por cliente\n",
    "ventas_cliente = df.groupby(\"cliente\")[\"total\"].sum()\n",
    "print(\"Total por cliente:\\n\", ventas_cliente)\n",
    "\n",
    "# 4. Producto más vendido en cantidad\n",
    "cantidad_producto = df.groupby(\"producto\")[\"cantidad\"].sum()\n",
    "print(\"Producto más vendido:\", cantidad_producto.idxmax())\n",
    "\n",
    "# 5. Cliente que gastó más\n",
    "mejor_cliente = ventas_cliente.idxmax()\n",
    "print(\"Cliente que más gastó:\", mejor_cliente)\n"
   ]
  },
  {
   "cell_type": "markdown",
   "id": "f0566ad1-51ce-41e4-b238-bc85d092f386",
   "metadata": {},
   "source": [
    "# 🧩 Ejercicio 5 – Limpieza de Datos"
   ]
  },
  {
   "cell_type": "code",
   "execution_count": 28,
   "id": "e349cb30-52ba-48b8-b0d4-94ceb3b6ca9c",
   "metadata": {},
   "outputs": [
    {
     "data": {
      "text/html": [
       "<div>\n",
       "<style scoped>\n",
       "    .dataframe tbody tr th:only-of-type {\n",
       "        vertical-align: middle;\n",
       "    }\n",
       "\n",
       "    .dataframe tbody tr th {\n",
       "        vertical-align: top;\n",
       "    }\n",
       "\n",
       "    .dataframe thead th {\n",
       "        text-align: right;\n",
       "    }\n",
       "</style>\n",
       "<table border=\"1\" class=\"dataframe\">\n",
       "  <thead>\n",
       "    <tr style=\"text-align: right;\">\n",
       "      <th></th>\n",
       "      <th>producto</th>\n",
       "      <th>precio</th>\n",
       "      <th>cantidad</th>\n",
       "      <th>cliente</th>\n",
       "    </tr>\n",
       "  </thead>\n",
       "  <tbody>\n",
       "    <tr>\n",
       "      <th>0</th>\n",
       "      <td>Mouse</td>\n",
       "      <td>2500</td>\n",
       "      <td>1</td>\n",
       "      <td>Ana</td>\n",
       "    </tr>\n",
       "    <tr>\n",
       "      <th>1</th>\n",
       "      <td>Teclado</td>\n",
       "      <td>4500</td>\n",
       "      <td>2</td>\n",
       "      <td>Luis</td>\n",
       "    </tr>\n",
       "    <tr>\n",
       "      <th>2</th>\n",
       "      <td>Monitor</td>\n",
       "      <td>22000</td>\n",
       "      <td>1</td>\n",
       "      <td>Ana</td>\n",
       "    </tr>\n",
       "    <tr>\n",
       "      <th>3</th>\n",
       "      <td>Auriculares</td>\n",
       "      <td>6800</td>\n",
       "      <td>1</td>\n",
       "      <td>Pedro</td>\n",
       "    </tr>\n",
       "    <tr>\n",
       "      <th>4</th>\n",
       "      <td>Teclado</td>\n",
       "      <td>4500</td>\n",
       "      <td>1</td>\n",
       "      <td>Luis</td>\n",
       "    </tr>\n",
       "    <tr>\n",
       "      <th>5</th>\n",
       "      <td>None</td>\n",
       "      <td>None</td>\n",
       "      <td>None</td>\n",
       "      <td>Lucas</td>\n",
       "    </tr>\n",
       "  </tbody>\n",
       "</table>\n",
       "</div>"
      ],
      "text/plain": [
       "      producto precio cantidad cliente\n",
       "0        Mouse   2500        1     Ana\n",
       "1      Teclado   4500        2    Luis\n",
       "2      Monitor  22000        1     Ana\n",
       "3  Auriculares   6800        1   Pedro\n",
       "4      Teclado   4500        1    Luis\n",
       "5         None   None     None   Lucas"
      ]
     },
     "execution_count": 28,
     "metadata": {},
     "output_type": "execute_result"
    }
   ],
   "source": [
    "data = {\n",
    "    \"producto\": [\"Mouse\", \"Teclado\", \"Monitor\", \"Auriculares\", \"Teclado\"],\n",
    "    \"precio\": [2500, 4500, 22000, 6800, 4500],\n",
    "    \"cantidad\": [1, 2, 1, 1, 1],\n",
    "    \"cliente\": [\"Ana\", \"Luis\", \"Ana\", \"Pedro\", \"Luis\"]\n",
    "}\n",
    "df = pd.DataFrame(data)\n",
    "# Agregá a df una fila con datos faltantes:\n",
    "df.loc[len(df)] = [None, None, None, \"Lucas\"]\n",
    "df"
   ]
  },
  {
   "cell_type": "markdown",
   "id": "c60173de-eaaf-42df-94ac-7052bf118176",
   "metadata": {},
   "source": [
    "### Preguntas:\n",
    "### 1.\tDetectá y mostrà los valores faltantes.\n",
    "### 2.\tEliminá las filas con datos incompletos.\n",
    "### 3.\tReemplazá valores faltantes por 0 en cantidad y precio."
   ]
  },
  {
   "cell_type": "code",
   "execution_count": 29,
   "id": "9eb33ef0-c6f5-41f2-809d-c934c3d87b92",
   "metadata": {},
   "outputs": [
    {
     "name": "stdout",
     "output_type": "stream",
     "text": [
      "Valores nulos por columna:\n",
      " producto    1\n",
      "precio      1\n",
      "cantidad    1\n",
      "cliente     0\n",
      "dtype: int64\n",
      "DataFrame limpio:\n",
      "       producto precio cantidad cliente\n",
      "0        Mouse   2500        1     Ana\n",
      "1      Teclado   4500        2    Luis\n",
      "2      Monitor  22000        1     Ana\n",
      "3  Auriculares   6800        1   Pedro\n",
      "4      Teclado   4500        1    Luis\n",
      "DataFrame con reemplazos:\n",
      "       producto  precio  cantidad cliente\n",
      "0        Mouse    2500         1     Ana\n",
      "1      Teclado    4500         2    Luis\n",
      "2      Monitor   22000         1     Ana\n",
      "3  Auriculares    6800         1   Pedro\n",
      "4      Teclado    4500         1    Luis\n",
      "5         None       0         0   Lucas\n"
     ]
    },
    {
     "name": "stderr",
     "output_type": "stream",
     "text": [
      "C:\\Users\\seba_\\AppData\\Local\\Temp\\ipykernel_17852\\3078736132.py:9: FutureWarning: A value is trying to be set on a copy of a DataFrame or Series through chained assignment using an inplace method.\n",
      "The behavior will change in pandas 3.0. This inplace method will never work because the intermediate object on which we are setting values always behaves as a copy.\n",
      "\n",
      "For example, when doing 'df[col].method(value, inplace=True)', try using 'df.method({col: value}, inplace=True)' or df[col] = df[col].method(value) instead, to perform the operation inplace on the original object.\n",
      "\n",
      "\n",
      "  df[\"cantidad\"].fillna(0, inplace=True)\n",
      "C:\\Users\\seba_\\AppData\\Local\\Temp\\ipykernel_17852\\3078736132.py:9: FutureWarning: Downcasting object dtype arrays on .fillna, .ffill, .bfill is deprecated and will change in a future version. Call result.infer_objects(copy=False) instead. To opt-in to the future behavior, set `pd.set_option('future.no_silent_downcasting', True)`\n",
      "  df[\"cantidad\"].fillna(0, inplace=True)\n",
      "C:\\Users\\seba_\\AppData\\Local\\Temp\\ipykernel_17852\\3078736132.py:10: FutureWarning: A value is trying to be set on a copy of a DataFrame or Series through chained assignment using an inplace method.\n",
      "The behavior will change in pandas 3.0. This inplace method will never work because the intermediate object on which we are setting values always behaves as a copy.\n",
      "\n",
      "For example, when doing 'df[col].method(value, inplace=True)', try using 'df.method({col: value}, inplace=True)' or df[col] = df[col].method(value) instead, to perform the operation inplace on the original object.\n",
      "\n",
      "\n",
      "  df[\"precio\"].fillna(0, inplace=True)\n",
      "C:\\Users\\seba_\\AppData\\Local\\Temp\\ipykernel_17852\\3078736132.py:10: FutureWarning: Downcasting object dtype arrays on .fillna, .ffill, .bfill is deprecated and will change in a future version. Call result.infer_objects(copy=False) instead. To opt-in to the future behavior, set `pd.set_option('future.no_silent_downcasting', True)`\n",
      "  df[\"precio\"].fillna(0, inplace=True)\n"
     ]
    }
   ],
   "source": [
    "# 1. Detectar valores faltantes\n",
    "print(\"Valores nulos por columna:\\n\", df.isnull().sum())\n",
    "\n",
    "# 2. Eliminar filas con datos faltantes\n",
    "df_limpio = df.dropna()\n",
    "print(\"DataFrame limpio:\\n\", df_limpio)\n",
    "\n",
    "# 3. Reemplazar nulos con 0 (en cantidad y precio)\n",
    "df[\"cantidad\"].fillna(0, inplace=True)\n",
    "df[\"precio\"].fillna(0, inplace=True)\n",
    "print(\"DataFrame con reemplazos:\\n\", df)\n"
   ]
  },
  {
   "cell_type": "code",
   "execution_count": null,
   "id": "f707e313-153a-4122-b1c7-396bfd71c03e",
   "metadata": {},
   "outputs": [],
   "source": []
  }
 ],
 "metadata": {
  "kernelspec": {
   "display_name": "Python 3",
   "language": "python",
   "name": "python3"
  },
  "language_info": {
   "codemirror_mode": {
    "name": "ipython",
    "version": 3
   },
   "file_extension": ".py",
   "mimetype": "text/x-python",
   "name": "python",
   "nbconvert_exporter": "python",
   "pygments_lexer": "ipython3",
   "version": "3.12.9"
  }
 },
 "nbformat": 4,
 "nbformat_minor": 5
}
